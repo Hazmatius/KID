{
 "cells": [
  {
   "cell_type": "code",
   "execution_count": null,
   "metadata": {
    "collapsed": true
   },
   "outputs": [],
   "source": [
    "from IPython.core.display import display, HTML\n",
    "display(HTML(\"<style>.container { width:100% !important; }</style>\"))\n",
    "\n",
    "import torch\n",
    "import gc\n",
    "import os\n",
    "import sys\n",
    "%matplotlib notebook\n",
    "import matplotlib.pyplot as plt\n",
    "\n",
    "module_path = os.path.abspath(os.path.join('.')) + '/src'\n",
    "if module_path not in sys.path:\n",
    "    sys.path.append(module_path)"
   ]
  },
  {
   "cell_type": "code",
   "execution_count": null,
   "metadata": {
    "collapsed": true,
    "scrolled": false
   },
   "outputs": [],
   "source": [
    "from criteria import KIDMindLoss\n",
    "from helpers import Trainer\n",
    "from helpers import Logger\n",
    "from helpers import Trial\n",
    "from dataloader import KID_Data\n",
    "from modules import Mind_of_KID\n",
    "import utils"
   ]
  },
  {
   "cell_type": "code",
   "execution_count": null,
   "metadata": {
    "collapsed": true,
    "scrolled": true
   },
   "outputs": [],
   "source": [
    "# Load the data\n",
    "main_dir = '/home/hazmat/GitHub/KID/'\n",
    "train_dir = main_dir + 'datasets/KID_memory'\n",
    "# test_dir = main_dir + 'low_AD/'\n",
    "modl_dir = main_dir + 'models/'\n",
    "rslt_dir = main_dir + 'results/'\n",
    "\n",
    "train_ds = KID_Data(folder=train_dir, crop=55, scale=1, stride=1)\n",
    "# test_ds = MIBIData(folder=test_dir, crop=32, scale=10, stride=16)"
   ]
  },
  {
   "cell_type": "code",
   "execution_count": null,
   "metadata": {
    "collapsed": true,
    "scrolled": false
   },
   "outputs": [],
   "source": [
    "kidmind = Mind_of_KID()\n",
    "\n",
    "# kidmind = Mind_of_KID.load_model(main_dir + 'models/kinematics/', 'model_2999')\n",
    "if torch.cuda.is_available():\n",
    "    kidmind.cuda()\n",
    "    pass"
   ]
  },
  {
   "cell_type": "code",
   "execution_count": null,
   "metadata": {
    "collapsed": true
   },
   "outputs": [],
   "source": [
    "kidmind_logger = Logger(['loss'])\n",
    "kidmind_trainer = Trainer()"
   ]
  },
  {
   "cell_type": "code",
   "execution_count": null,
   "metadata": {
    "collapsed": true
   },
   "outputs": [],
   "source": [
    "# LadderNet training parameters\n",
    "kidmind_train_args = dict()\n",
    "kidmind_train_args['lr'] = 0.001\n",
    "kidmind_train_args['batch_size'] = 1000\n",
    "kidmind_train_args['epochs'] = 1000\n",
    "kidmind_train_args['report'] = 5\n",
    "kidmind_train_args['crop'] = 55\n",
    "kidmind_train_args['clip'] = None\n",
    "kidmind_train_args['decay'] = 0\n",
    "kidmind_train_args['restart'] = -1\n",
    "kidmind_train_args['epoch_frac'] = 1\n",
    "# laddernet_train_args['decay'] = 1e-5\n",
    "\n",
    "# LadderNet loss parameters\n",
    "kidmind_loss_args = {\n",
    "    'alpha': 1, # sensory loss\n",
    "    'beta': 1, # inverse loss\n",
    "    'gamma': 1, # forward loss\n",
    "    'delta': 1 # perceptual loss\n",
    "}\n",
    "\n",
    "train_ds.set_crop(kidmind_train_args['crop'])"
   ]
  },
  {
   "cell_type": "code",
   "execution_count": null,
   "metadata": {
    "collapsed": true,
    "scrolled": false
   },
   "outputs": [],
   "source": [
    "kidmind_train_args['continue'] = False\n",
    "kidmind.set_noise_level(0)\n",
    "kidmind_criterion = KIDMindLoss(**kidmind_loss_args)\n",
    "kidmind_trainer.train(kidmind, train_ds, kidmind_criterion, kidmind_logger, '/home/hazmat/GitHub/KID/models/kinematics/', **kidmind_train_args)"
   ]
  },
  {
   "cell_type": "code",
   "execution_count": null,
   "metadata": {
    "collapsed": true,
    "scrolled": false
   },
   "outputs": [],
   "source": [
    "import numpy as np\n",
    "import time\n",
    "kidmind.set_noise_level(0)\n",
    "kidmind.eval()\n",
    "\n",
    "idx1 = 20\n",
    "idx2 = 48\n",
    "\n",
    "batch1 = train_ds.get_samples([idx1])\n",
    "batch2 = train_ds.get_samples([idx2])\n",
    "\n",
    "batch1 = kidmind.forward(**batch1)\n",
    "batch2 = kidmind.forward(**batch2)\n",
    "\n",
    "img1 = batch1['~s_i'][0,:,:,:].transpose(0,1).transpose(1,2).detach()\n",
    "img2 = batch2['~s_i'][0,:,:,:].transpose(0,1).transpose(1,2).detach()\n",
    "\n",
    "p = batch2['p_i']\n",
    "print(p)\n",
    "\n",
    "fig = plt.figure(figsize=[10,5])\n",
    "ax1 = plt.subplot(1,2,1)\n",
    "ax2 = plt.subplot(1,2,2)\n",
    "\n",
    "ax1.imshow(img1.cpu())\n",
    "ax2.imshow(img2.cpu())"
   ]
  }
 ],
 "metadata": {
  "kernelspec": {
   "display_name": "Python 3",
   "language": "python",
   "name": "python3"
  },
  "language_info": {
   "codemirror_mode": {
    "name": "ipython",
    "version": 3
   },
   "file_extension": ".py",
   "mimetype": "text/x-python",
   "name": "python",
   "nbconvert_exporter": "python",
   "pygments_lexer": "ipython3",
   "version": "3.6.8"
  }
 },
 "nbformat": 4,
 "nbformat_minor": 2
}
