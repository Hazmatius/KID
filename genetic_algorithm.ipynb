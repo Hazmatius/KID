{
 "cells": [
  {
   "cell_type": "code",
   "execution_count": null,
   "metadata": {},
   "outputs": [],
   "source": [
    "from IPython.core.display import display, HTML\n",
    "display(HTML(\"<style>.container { width:100% !important; }</style>\"))\n",
    "\n",
    "import time\n",
    "import numpy as np\n",
    "import torch\n",
    "import gc\n",
    "import os\n",
    "import sys\n",
    "%matplotlib notebook\n",
    "import matplotlib.pyplot as plt\n",
    "\n",
    "module_path = os.path.abspath(os.path.join('.')) + '/src'\n",
    "if module_path not in sys.path:\n",
    "    sys.path.append(module_path)"
   ]
  },
  {
   "cell_type": "code",
   "execution_count": null,
   "metadata": {
    "collapsed": true
   },
   "outputs": [],
   "source": [
    "from criteria import KIDMindLoss\n",
    "from helpers import Trainer\n",
    "from helpers import Logger\n",
    "from helpers import Trial\n",
    "from mibi_dataloader import KID_Data\n",
    "from modules import Mind_of_KID\n",
    "import utils"
   ]
  },
  {
   "cell_type": "code",
   "execution_count": null,
   "metadata": {},
   "outputs": [],
   "source": [
    "# Load the data\n",
    "main_dir = '/home/hazmat/GitHub/KID/'\n",
    "train_dir = main_dir + 'datasets/KID_memory'\n",
    "# test_dir = main_dir + 'low_AD/'\n",
    "modl_dir = main_dir + 'models/'\n",
    "rslt_dir = main_dir + 'results/'\n",
    "\n",
    "train_ds = KID_Data(folder=train_dir, crop=55, scale=1, stride=1)\n",
    "# test_ds = MIBIData(folder=test_dir, crop=32, scale=10, stride=16)"
   ]
  },
  {
   "cell_type": "code",
   "execution_count": null,
   "metadata": {},
   "outputs": [],
   "source": [
    "laddernet_args = dict()\n",
    "\n",
    "# kidmind = Mind_of_KID()\n",
    "kidmind = Mind_of_KID.load_model(main_dir + 'models/', 'model_2999')\n",
    "if torch.cuda.is_available():\n",
    "    kidmind.cuda()\n",
    "    pass"
   ]
  },
  {
   "cell_type": "code",
   "execution_count": null,
   "metadata": {},
   "outputs": [],
   "source": [
    "kidmind.set_noise_level(0)\n",
    "kidmind.eval()\n",
    "\n",
    "idx1 = 20\n",
    "idx2 = 48\n",
    "batch1 = train_ds.get_samples([idx1])\n",
    "batch2 = train_ds.get_samples([idx2])\n",
    "\n",
    "batch1 = kidmind.forward(**batch1)\n",
    "batch2 = kidmind.forward(**batch2)\n",
    "\n",
    "img1 = batch1['~s_i'][0,:,:,:].transpose(0,1).transpose(1,2).detach()\n",
    "img2 = batch2['~s_i'][0,:,:,:].transpose(0,1).transpose(1,2).detach()\n",
    "\n",
    "p = batch2['p_i']\n",
    "print(p)\n",
    "\n",
    "fig = plt.figure(figsize=[10,5])\n",
    "ax1 = plt.subplot(1,2,1)\n",
    "ax2 = plt.subplot(1,2,2)\n",
    "\n",
    "ax1.imshow(img1.cpu())\n",
    "ax2.imshow(img2.cpu())"
   ]
  },
  {
   "cell_type": "code",
   "execution_count": null,
   "metadata": {
    "collapsed": true
   },
   "outputs": [],
   "source": [
    "genetic_args = dict()\n",
    "genetic_args['pop_size'] = 100\n",
    "genetic_args['seq_length'] = 3\n",
    "genetic_args['generations'] = 25\n",
    "genetic_args['steps'] = 1\n",
    "genetic_args['learning_rate'] = 1\n",
    "genetic_args['n_cut'] = 10\n",
    "genetic_args['n_children'] = 9\n",
    "genetic_args['noise_lvl'] = 0.2\n",
    "genetic_args['optimize'] = True\n",
    "\n",
    "clip_val = 0.5"
   ]
  },
  {
   "cell_type": "code",
   "execution_count": null,
   "metadata": {},
   "outputs": [],
   "source": [
    "num_seqs = 10\n",
    "import time\n",
    "import kid_ga\n",
    "t = time.time()\n",
    "r_target, p_t, p_next = kid_ga.build_dataset(num_seqs, train_ds, kidmind, clip_val, genetic_args)\n",
    "time_passed = time.time() - t\n",
    "print(time_passed, ' seconds')\n",
    "print(time_passed / 60 / 60 / 24, ' hours')"
   ]
  },
  {
   "cell_type": "code",
   "execution_count": null,
   "metadata": {
    "collapsed": true
   },
   "outputs": [],
   "source": [
    "raw_seq_data = dict()\n",
    "raw_seq_data['r_target'] = r_target\n",
    "raw_seq_data['p_t'] = p_t\n",
    "raw_seq_data['p_next'] = p_next\n",
    "\n",
    "import pickle\n",
    "pickle.dump(raw_seq_data, open(main_dir + 'raw_seq_data.p', 'wb'))"
   ]
  },
  {
   "cell_type": "code",
   "execution_count": null,
   "metadata": {
    "collapsed": true
   },
   "outputs": [],
   "source": []
  }
 ],
 "metadata": {
  "kernelspec": {
   "display_name": "Python 3",
   "language": "python",
   "name": "python3"
  },
  "language_info": {
   "codemirror_mode": {
    "name": "ipython",
    "version": 3
   },
   "file_extension": ".py",
   "mimetype": "text/x-python",
   "name": "python",
   "nbconvert_exporter": "python",
   "pygments_lexer": "ipython3",
   "version": "3.6.8"
  }
 },
 "nbformat": 4,
 "nbformat_minor": 2
}
