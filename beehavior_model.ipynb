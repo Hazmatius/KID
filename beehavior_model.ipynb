{
 "cells": [
  {
   "cell_type": "code",
   "execution_count": null,
   "metadata": {},
   "outputs": [],
   "source": [
    "from IPython.core.display import display, HTML\n",
    "display(HTML(\"<style>.container { width:100% !important; }</style>\"))\n",
    "\n",
    "import pickle\n",
    "import numpy as np\n",
    "import torch\n",
    "import os\n",
    "import sys\n",
    "\n",
    "module_path = os.path.abspath(os.path.join('.')) + '/src'\n",
    "if module_path not in sys.path:\n",
    "    sys.path.append(module_path)"
   ]
  },
  {
   "cell_type": "code",
   "execution_count": null,
   "metadata": {},
   "outputs": [],
   "source": [
    "from criteria import BeehiveLoss\n",
    "from helpers import Trainer\n",
    "from helpers import Logger\n",
    "from helpers import Trial\n",
    "from dataloader import Sequence_Data\n",
    "from modules import Beehive\n",
    "import utils\n",
    "import kid_ga"
   ]
  },
  {
   "cell_type": "code",
   "execution_count": null,
   "metadata": {},
   "outputs": [],
   "source": [
    "# Load the data\n",
    "main_dir = '/home/hazmat/GitHub/KID/'\n",
    "train_dir = main_dir + 'datasets/'\n",
    "# test_dir = main_dir + 'low_AD/'\n",
    "modl_dir = main_dir + 'models/'\n",
    "rslt_dir = main_dir + 'results/'\n",
    "\n",
    "train_ds = Sequence_Data(train_dir + 'GA_sequences.p')"
   ]
  },
  {
   "cell_type": "code",
   "execution_count": null,
   "metadata": {
    "collapsed": true
   },
   "outputs": [],
   "source": [
    "beehive_logger = Logger(['loss'])\n",
    "beehive_trainer = Trainer()"
   ]
  },
  {
   "cell_type": "code",
   "execution_count": null,
   "metadata": {
    "collapsed": true
   },
   "outputs": [],
   "source": [
    "beehive = Beehive()\n",
    "\n",
    "if torch.cuda.is_available():\n",
    "    beehive.cuda()\n",
    "    pass"
   ]
  },
  {
   "cell_type": "code",
   "execution_count": null,
   "metadata": {
    "collapsed": true
   },
   "outputs": [],
   "source": [
    "# Beehive training parameters\n",
    "beehive_train_args = dict()\n",
    "beehive_train_args['lr'] = 0.001\n",
    "beehive_train_args['batch_size'] = 1000\n",
    "beehive_train_args['epochs'] = 100\n",
    "beehive_train_args['report'] = 5\n",
    "beehive_train_args['crop'] = 55\n",
    "beehive_train_args['clip'] = None\n",
    "beehive_train_args['decay'] = 0\n",
    "beehive_train_args['restart'] = -1\n",
    "beehive_train_args['epoch_frac'] = 1\n",
    "\n",
    "# LadderNet loss parameters\n",
    "beehive_loss_args = {\n",
    "}\n",
    "\n",
    "train_ds.set_crop(beehive_train_args['crop'])"
   ]
  },
  {
   "cell_type": "code",
   "execution_count": null,
   "metadata": {},
   "outputs": [],
   "source": [
    "beehive_train_args['continue'] = False\n",
    "beehive_criterion = BeehiveLoss(**beehive_loss_args)\n",
    "beehive_trainer.train(beehive, train_ds, beehive_criterion, beehive_logger, '/home/hazmat/GitHub/KID/models/beehive/', **beehive_train_args)"
   ]
  },
  {
   "cell_type": "code",
   "execution_count": null,
   "metadata": {
    "collapsed": true
   },
   "outputs": [],
   "source": []
  }
 ],
 "metadata": {
  "kernelspec": {
   "display_name": "Python 3",
   "language": "python",
   "name": "python3"
  },
  "language_info": {
   "codemirror_mode": {
    "name": "ipython",
    "version": 3
   },
   "file_extension": ".py",
   "mimetype": "text/x-python",
   "name": "python",
   "nbconvert_exporter": "python",
   "pygments_lexer": "ipython3",
   "version": "3.6.8"
  }
 },
 "nbformat": 4,
 "nbformat_minor": 2
}
